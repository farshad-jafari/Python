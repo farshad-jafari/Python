{
 "cells": [
  {
   "cell_type": "code",
   "execution_count": 8,
   "metadata": {},
   "outputs": [
    {
     "name": "stdout",
     "output_type": "stream",
     "text": [
      "Please enter first  number: 6.14\n",
      "Please enter second number: 3.28\n",
      "3.28\n",
      "6.14\n"
     ]
    }
   ],
   "source": [
    "#012\n",
    "first  = float(input('Please enter first  number: '))\n",
    "second = float(input('Please enter second number: '))\n",
    "if first > second:\n",
    "    print(second)\n",
    "    print(first)\n",
    "else:\n",
    "    print(first)\n",
    "    print(second)\n"
   ]
  },
  {
   "cell_type": "code",
   "execution_count": 11,
   "metadata": {},
   "outputs": [
    {
     "name": "stdout",
     "output_type": "stream",
     "text": [
      "Please enter a number < 20 :\n",
      "19\n",
      "Thank you\n"
     ]
    }
   ],
   "source": [
    "#013\n",
    "Num = int(input('Please enter a number < 20 :\\n'))\n",
    "if Num >= 20:\n",
    "    print('Too high')\n",
    "else:\n",
    "    print('Thank you')"
   ]
  },
  {
   "cell_type": "code",
   "execution_count": 16,
   "metadata": {},
   "outputs": [
    {
     "name": "stdout",
     "output_type": "stream",
     "text": [
      "Please enter a 10 <= number <= 20 :\n",
      "14\n",
      "Thank you\n"
     ]
    }
   ],
   "source": [
    "#014\n",
    "Num = int(input('Please enter a 10 <= number <= 20 :\\n'))\n",
    "if Num > 20 or Num < 10:\n",
    "    print('Incorrect answer')\n",
    "else:\n",
    "    print('Thank you')\n",
    "    "
   ]
  },
  {
   "cell_type": "code",
   "execution_count": 19,
   "metadata": {},
   "outputs": [
    {
     "name": "stdout",
     "output_type": "stream",
     "text": [
      "Please enter your favourite colour: red\n",
      "I like red too\n"
     ]
    }
   ],
   "source": [
    "#015\n",
    "colour = input('Please enter your favourite colour: ')\n",
    "if colour == 'Red' or colour == 'RED' or colour == 'red':\n",
    "    print('I like red too')\n",
    "else:\n",
    "    print('I dont like',colour,',I prefer red')"
   ]
  },
  {
   "cell_type": "code",
   "execution_count": 25,
   "metadata": {},
   "outputs": [
    {
     "name": "stdout",
     "output_type": "stream",
     "text": [
      "Is it raining? : yes\n",
      "Is it windy? : no\n",
      "Take an umbrella\n"
     ]
    }
   ],
   "source": [
    "#016\n",
    "Q1 = input('Is it raining? : ').lower()#belafasele string ra koochak kon\n",
    "Q2 = input('Is it windy? : ')\n",
    "Q2 = Q2.lower()#ba fasele string ra koochak kon\n",
    "if Q1 != 'yes':\n",
    "    print('enjoy yor day')\n",
    "else:\n",
    "    if Q2 == 'yes':\n",
    "        print('it is too windy for an umbrella')\n",
    "    else:\n",
    "        print('Take an umbrella')"
   ]
  },
  {
   "cell_type": "code",
   "execution_count": 32,
   "metadata": {},
   "outputs": [
    {
     "name": "stdout",
     "output_type": "stream",
     "text": [
      "Please enter your age21\n",
      "You can vote\n"
     ]
    }
   ],
   "source": [
    "#017\n",
    "age = int(input('Please enter your age'))\n",
    "if age >= 18:\n",
    "    print('You can vote')\n",
    "elif age == 17:\n",
    "    print('You can learn to drive')\n",
    "elif age == 16:\n",
    "    print('You can buy a lottery ticket')\n",
    "else:\n",
    "    print('You can go trick or treating')"
   ]
  },
  {
   "cell_type": "code",
   "execution_count": 38,
   "metadata": {},
   "outputs": [
    {
     "name": "stdout",
     "output_type": "stream",
     "text": [
      "Please enter a number: 21\n",
      "Too high\n"
     ]
    }
   ],
   "source": [
    "#018\n",
    "Num = int(input('Please enter a number: '))\n",
    "if Num < 10:\n",
    "    print('Too low')\n",
    "elif 10 <= Num <= 20:\n",
    "    print('Correct')\n",
    "else: \n",
    "    print('Too high')"
   ]
  },
  {
   "cell_type": "code",
   "execution_count": 43,
   "metadata": {},
   "outputs": [
    {
     "name": "stdout",
     "output_type": "stream",
     "text": [
      "Please enter 1, 2 or 3: 4\n",
      "Error message\n"
     ]
    }
   ],
   "source": [
    "#019\n",
    "N = int(input('Please enter 1, 2 or 3: '))\n",
    "if N != 1 and N != 2 and N != 3:\n",
    "    print('Error message')\n",
    "elif N == 1:\n",
    "    print('Thank you')\n",
    "elif N == 2:\n",
    "    print('Well done')\n",
    "else:\n",
    "    print('Correct')"
   ]
  }
 ],
 "metadata": {
  "kernelspec": {
   "display_name": "Python 3",
   "language": "python",
   "name": "python3"
  },
  "language_info": {
   "codemirror_mode": {
    "name": "ipython",
    "version": 3
   },
   "file_extension": ".py",
   "mimetype": "text/x-python",
   "name": "python",
   "nbconvert_exporter": "python",
   "pygments_lexer": "ipython3",
   "version": "3.7.0"
  }
 },
 "nbformat": 4,
 "nbformat_minor": 2
}
